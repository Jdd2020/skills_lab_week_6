{
 "cells": [
  {
   "cell_type": "code",
   "execution_count": 7,
   "metadata": {},
   "outputs": [
    {
     "name": "stdout",
     "output_type": "stream",
     "text": [
      "This program tells you what type of wave on the electromagnetic spectrum you have entered based off the entered frequency or wavelength\n"
     ]
    },
    {
     "name": "stdin",
     "output_type": "stream",
     "text": [
      "Enter the number 1 if you would like to input the wavelength and 2 if you would like to enter the frequency  2\n",
      "What is the frequency of your wave in hz? 20\n"
     ]
    },
    {
     "name": "stdout",
     "output_type": "stream",
     "text": [
      "Your wave of frequency 20 is a infared wave\n"
     ]
    }
   ],
   "source": [
    "print(\"This program tells you what type of wave on the electromagnetic spectrum you have entered based off the entered frequency or wavelength\")\n",
    "wf = int(input(\"Enter the number 1 if you would like to input the wavelength and 2 if you would like to enter the frequency \"))\n",
    "if(wf == 1):\n",
    "    waveL=float(input(\"what is the wavelength of your wave in cm?\"))\n",
    "    if(waveL> 30):\n",
    "        print(\"Your wave of length \" + str(waveL) + \" is a radio wave\")\n",
    "    elif(waveL> 0.1):\n",
    "        print(\"Your wave of length \" + str(waveL) + \" is a microwave\")\n",
    "    elif(waveL> 0.00007):\n",
    "        print(\"Your wave of length \" + str(waveL) + \" is a infared wave\")\n",
    "    elif(waveL> 0.000038):\n",
    "        print(\"Your wave of length \" + str(waveL) + \" is visible light\")\n",
    "    elif(waveL> 0.000001):\n",
    "        print(\"Your wave of length \" + str(waveL) + \" is an ultraviolet wave\")\n",
    "    elif(waveL> 0.000000001):\n",
    "        print(\"Your wave of length \" + str(waveL) + \" is a X-Ray\")\n",
    "    else:\n",
    "        print(\"Your wave of length \" + str(waveL) + \" is a Gama Ray\")\n",
    "else:\n",
    "    fre = int(input(\"What is the frequency of your wave in hz?\"))\n",
    "    if(fre>(1/0.000000001) ):\n",
    "        print(\"Your wave of frequency \" + str(fre) + \" is a Gama Ray\")\n",
    "    elif(fre>(1/0.000001)):\n",
    "        print(\"Your wave of frequency \" + str(fre) + \" is a X-Ray\")\n",
    "    elif(fre>(1/0.000038)):\n",
    "        print(\"Your wave of frequency \" + str(fre) + \" is a ultraviolet wave\")\n",
    "    elif(fre>(1/0.00007)):\n",
    "        print(\"Your wave of frequency \" + str(fre) + \" is visible light\")\n",
    "    elif(fre>(1/0.1)):\n",
    "        print(\"Your wave of frequency \" + str(fre) + \" is a infared wave\")\n",
    "    elif(fre>(1/30)):\n",
    "        print(\"Your wave of frequency \" + str(fre) + \" is a microwave\")\n",
    "    else:\n",
    "        print(\"Your wave of frequency \" + str(fre) + \" is radio wave\")\n",
    "    "
   ]
  },
  {
   "cell_type": "code",
   "execution_count": null,
   "metadata": {},
   "outputs": [],
   "source": []
  }
 ],
 "metadata": {
  "kernelspec": {
   "display_name": "Python 3",
   "language": "python",
   "name": "python3"
  },
  "language_info": {
   "codemirror_mode": {
    "name": "ipython",
    "version": 3
   },
   "file_extension": ".py",
   "mimetype": "text/x-python",
   "name": "python",
   "nbconvert_exporter": "python",
   "pygments_lexer": "ipython3",
   "version": "3.8.3"
  }
 },
 "nbformat": 4,
 "nbformat_minor": 4
}
